{
  "cells": [
    {
      "cell_type": "code",
      "source": [
        "!pip install -U tensorflow-addons"
      ],
      "metadata": {
        "id": "9serRc8WcwBP",
        "colab": {
          "base_uri": "https://localhost:8080/"
        },
        "outputId": "3b6d15bf-6f84-40a9-ceab-4faccfc5ee87"
      },
      "execution_count": null,
      "outputs": [
        {
          "output_type": "stream",
          "name": "stdout",
          "text": [
            "Looking in indexes: https://pypi.org/simple, https://us-python.pkg.dev/colab-wheels/public/simple/\n",
            "Requirement already satisfied: tensorflow-addons in /usr/local/lib/python3.10/dist-packages (0.20.0)\n",
            "Requirement already satisfied: packaging in /usr/local/lib/python3.10/dist-packages (from tensorflow-addons) (23.1)\n",
            "Requirement already satisfied: typeguard<3.0.0,>=2.7 in /usr/local/lib/python3.10/dist-packages (from tensorflow-addons) (2.13.3)\n"
          ]
        }
      ]
    },
    {
      "cell_type": "code",
      "source": [
        "import numpy as np\n",
        "import tensorflow as tf\n",
        "from tensorflow import keras\n",
        "from tensorflow.keras import layers\n",
        "import tensorflow_addons as tfa"
      ],
      "metadata": {
        "id": "g2chs6jakUgA"
      },
      "execution_count": null,
      "outputs": []
    },
    {
      "cell_type": "code",
      "source": [
        "num_classes = 100\n",
        "input_shape = (32, 32, 3)\n",
        "\n",
        "(x_train, y_train), (x_test, y_test) = keras.datasets.cifar100.load_data()\n",
        "\n",
        "print(f\"x_train shape: {x_train.shape} - y_train shape: {y_train.shape}\")\n",
        "print(f\"x_test shape: {x_test.shape} - y_test shape: {y_test.shape}\")"
      ],
      "metadata": {
        "colab": {
          "base_uri": "https://localhost:8080/"
        },
        "id": "jjn-v_Q_kY3W",
        "outputId": "44e9f263-1a63-4e19-f2ba-3a1af69d447f"
      },
      "execution_count": null,
      "outputs": [
        {
          "output_type": "stream",
          "name": "stdout",
          "text": [
            "Downloading data from https://www.cs.toronto.edu/~kriz/cifar-100-python.tar.gz\n",
            "169001437/169001437 [==============================] - 3s 0us/step\n",
            "x_train shape: (50000, 32, 32, 3) - y_train shape: (50000, 1)\n",
            "x_test shape: (10000, 32, 32, 3) - y_test shape: (10000, 1)\n"
          ]
        }
      ]
    },
    {
      "cell_type": "code",
      "source": [
        "learning_rate = 0.001\n",
        "weight_decay = 0.0001\n",
        "batch_size = 256\n",
        "num_epochs = 100\n",
        "image_size = 72  # We'll resize input images to this size\n",
        "patch_size = 6  # Size of the patches to be extract from the input images\n",
        "num_patches = (image_size // patch_size) ** 2\n",
        "projection_dim = 64\n",
        "num_heads = 4\n",
        "transformer_units = [\n",
        "    projection_dim * 2,\n",
        "    projection_dim,\n",
        "]  # Size of the transformer layers\n",
        "transformer_layers = 8\n",
        "mlp_head_units = [2048, 1024]  # Size of the dense layers of the final classifier"
      ],
      "metadata": {
        "id": "asV8nxlfkZNN"
      },
      "execution_count": null,
      "outputs": []
    },
    {
      "cell_type": "code",
      "source": [
        "data_augmentation = keras.Sequential(\n",
        "    [\n",
        "        layers.Normalization(),\n",
        "        # Resizing 32x32 image to 72x72 image\n",
        "        layers.Resizing(image_size, image_size),\n",
        "        layers.RandomFlip(\"horizontal\"),\n",
        "    ],\n",
        "    name=\"data_augmentation\",\n",
        ")\n",
        "# Compute the mean and the variance of the training data for normalization.\n",
        "data_augmentation.layers[0].adapt(x_train)"
      ],
      "metadata": {
        "id": "tlkBJ0g_kZiP"
      },
      "execution_count": null,
      "outputs": []
    },
    {
      "cell_type": "code",
      "source": [
        "def mlp(x, hidden_units, dropout_rate):\n",
        "    for units in hidden_units:\n",
        "        x = layers.Dense(units, activation=tf.nn.gelu)(x)\n",
        "        x = layers.Dropout(dropout_rate)(x)\n",
        "    return x"
      ],
      "metadata": {
        "id": "GMQVMBRqknwt"
      },
      "execution_count": null,
      "outputs": []
    },
    {
      "cell_type": "code",
      "source": [
        "class Patches(layers.Layer):\n",
        "    def __init__(self, patch_size):\n",
        "        super().__init__()\n",
        "        self.patch_size = patch_size\n",
        "\n",
        "    def call(self, images):\n",
        "        batch_size = tf.shape(images)[0]\n",
        "        patches = tf.image.extract_patches(\n",
        "            images=images,\n",
        "            sizes=[1, self.patch_size, self.patch_size, 1],\n",
        "            strides=[1, self.patch_size, self.patch_size, 1],\n",
        "            rates=[1, 1, 1, 1],\n",
        "            padding=\"VALID\",\n",
        "        )\n",
        "        patch_dims = patches.shape[-1]\n",
        "        patches = tf.reshape(patches, [batch_size, -1, patch_dims])\n",
        "        return patches"
      ],
      "metadata": {
        "id": "kvnHIqizk1CK"
      },
      "execution_count": null,
      "outputs": []
    },
    {
      "cell_type": "code",
      "source": [
        "import matplotlib.pyplot as plt\n",
        "\n",
        "plt.figure(figsize=(4, 4))\n",
        "image = x_train[np.random.choice(range(x_train.shape[0]))]\n",
        "plt.imshow(image.astype(\"uint8\"))\n",
        "plt.axis(\"off\")\n",
        "\n",
        "resized_image = tf.image.resize(\n",
        "    tf.convert_to_tensor([image]), size=(image_size, image_size)\n",
        ")\n",
        "patches = Patches(patch_size)(resized_image)\n",
        "print(f\"Image size: {image_size} X {image_size}\")\n",
        "print(f\"Patch size: {patch_size} X {patch_size}\")\n",
        "print(f\"Patches per image: {patches.shape[1]}\")\n",
        "print(f\"Elements per patch: {patches.shape[-1]}\")\n",
        "\n",
        "n = int(np.sqrt(patches.shape[1]))\n",
        "plt.figure(figsize=(4, 4))\n",
        "for i, patch in enumerate(patches[0]):\n",
        "    ax = plt.subplot(n, n, i + 1)\n",
        "    patch_img = tf.reshape(patch, (patch_size, patch_size, 3))\n",
        "    plt.imshow(patch_img.numpy().astype(\"uint8\"))\n",
        "    plt.axis(\"off\")"
      ],
      "metadata": {
        "colab": {
          "base_uri": "https://localhost:8080/",
          "height": 742
        },
        "id": "WaENEZrkk8u1",
        "outputId": "a836265b-ba90-425d-c0de-00924efacd8f"
      },
      "execution_count": null,
      "outputs": [
        {
          "output_type": "stream",
          "name": "stdout",
          "text": [
            "Image size: 72 X 72\n",
            "Patch size: 6 X 6\n",
            "Patches per image: 144\n",
            "Elements per patch: 108\n"
          ]
        },
        {
          "output_type": "display_data",
          "data": {
            "text/plain": [
              "<Figure size 400x400 with 1 Axes>"
            ],
            "image/png": "[encoded data removed]"
          },
          "metadata": {}
        },
        {
          "output_type": "display_data",
          "data": {
            "text/plain": [
              "<Figure size 400x400 with 144 Axes>"
            ],
            "image/png": "[encoded data removed]"
          },
          "metadata": {}
        }
      ]
    },
    {
      "cell_type": "code",
      "source": [
        "class PatchEncoder(layers.Layer):\n",
        "    def __init__(self, num_patches, projection_dim):\n",
        "        super().__init__()\n",
        "        self.num_patches = num_patches\n",
        "        self.projection = layers.Dense(units=projection_dim)\n",
        "        self.position_embedding = layers.Embedding(\n",
        "            input_dim=num_patches, output_dim=projection_dim\n",
        "        )\n",
        "\n",
        "    def call(self, patch):\n",
        "        positions = tf.range(start=0, limit=self.num_patches, delta=1)\n",
        "        encoded = self.projection(patch) + self.position_embedding(positions)\n",
        "        return encoded"
      ],
      "metadata": {
        "id": "-rsUVlBglA0J"
      },
      "execution_count": null,
      "outputs": []
    },
    {
      "cell_type": "code",
      "source": [
        "def create_vit_classifier():\n",
        "    inputs = layers.Input(shape=input_shape)\n",
        "    # Augment data.\n",
        "    augmented = data_augmentation(inputs)\n",
        "    # Create patches.\n",
        "    patches = Patches(patch_size)(augmented)\n",
        "    # Encode patches.\n",
        "    encoded_patches = PatchEncoder(num_patches, projection_dim)(patches)\n",
        "\n",
        "    # Create multiple layers of the Transformer block.\n",
        "    for _ in range(transformer_layers):\n",
        "        # Layer normalization 1.\n",
        "        x1 = layers.LayerNormalization(epsilon=1e-6)(encoded_patches)\n",
        "        # Create a multi-head attention layer.\n",
        "        attention_output = layers.MultiHeadAttention(\n",
        "            num_heads=num_heads, key_dim=projection_dim, dropout=0.1\n",
        "        )(x1, x1)\n",
        "        # Skip connection 1.\n",
        "        x2 = layers.Add()([attention_output, encoded_patches])\n",
        "        # Layer normalization 2.\n",
        "        x3 = layers.LayerNormalization(epsilon=1e-6)(x2)\n",
        "        # MLP.\n",
        "        x3 = mlp(x3, hidden_units=transformer_units, dropout_rate=0.1)\n",
        "        # Skip connection 2.\n",
        "        encoded_patches = layers.Add()([x3, x2])\n",
        "\n",
        "    # Create a [batch_size, projection_dim] tensor.\n",
        "    representation = layers.LayerNormalization(epsilon=1e-6)(encoded_patches)\n",
        "    representation = layers.Flatten()(representation)\n",
        "    representation = layers.Dropout(0.5)(representation)\n",
        "    # Add MLP.\n",
        "    features = mlp(representation, hidden_units=mlp_head_units, dropout_rate=0.5)\n",
        "    # Classify outputs.\n",
        "    logits = layers.Dense(num_classes, activation = 'softmax')(features)\n",
        "    # Create the Keras model.\n",
        "    model = keras.Model(inputs=inputs, outputs=logits)\n",
        "    return model"
      ],
      "metadata": {
        "id": "hG1f18k4lHOb"
      },
      "execution_count": null,
      "outputs": []
    },
    {
      "cell_type": "code",
      "source": [
        "def run_experiment(model):\n",
        "    optimizer = tfa.optimizers.AdamW(\n",
        "        learning_rate=learning_rate, weight_decay=weight_decay\n",
        "    )\n",
        "\n",
        "    model.compile(\n",
        "        optimizer=optimizer,\n",
        "        loss=keras.losses.SparseCategoricalCrossentropy(),\n",
        "        metrics=[\n",
        "            keras.metrics.SparseCategoricalAccuracy(name=\"accuracy\"),\n",
        "            keras.metrics.SparseTopKCategoricalAccuracy(5, name=\"top-5-accuracy\"),\n",
        "        ],\n",
        "    )\n",
        "\n",
        "    checkpoint_filepath = \"/tmp/checkpoint\"\n",
        "    checkpoint_callback = keras.callbacks.ModelCheckpoint(\n",
        "        checkpoint_filepath,\n",
        "        monitor=\"val_accuracy\",\n",
        "        save_best_only=True,\n",
        "        save_weights_only=True,\n",
        "    )\n",
        "\n",
        "    history = model.fit(\n",
        "        x=x_train,\n",
        "        y=y_train,\n",
        "        batch_size=batch_size,\n",
        "        epochs=10,\n",
        "        validation_split=0.1,\n",
        "        callbacks=[checkpoint_callback],\n",
        "    )\n",
        "\n",
        "    model.load_weights(checkpoint_filepath)\n",
        "    _, accuracy, top_5_accuracy = model.evaluate(x_test, y_test)\n",
        "    print(f\"Test accuracy: {round(accuracy * 100, 2)}%\")\n",
        "    print(f\"Test top 5 accuracy: {round(top_5_accuracy * 100, 2)}%\")\n",
        "\n",
        "    return history\n",
        "\n",
        "\n",
        "vit_classifier = create_vit_classifier()\n",
        "history = run_experiment(vit_classifier)"
      ],
      "metadata": {
        "colab": {
          "base_uri": "https://localhost:8080/"
        },
        "id": "uLk2j_FMlHok",
        "outputId": "dfaf87de-1785-4a86-8cee-1c76681b7ae5"
      },
      "execution_count": null,
      "outputs": [
        {
          "output_type": "stream",
          "name": "stdout",
          "text": [
            "Epoch 1/10\n",
            "176/176 [==============================] - 78s 384ms/step - loss: 4.4036 - accuracy: 0.0533 - top-5-accuracy: 0.1819 - val_loss: 3.8793 - val_accuracy: 0.1180 - val_top-5-accuracy: 0.3252\n",
            "Epoch 2/10\n",
            "176/176 [==============================] - 69s 394ms/step - loss: 3.8638 - accuracy: 0.1105 - top-5-accuracy: 0.3178 - val_loss: 3.5866 - val_accuracy: 0.1652 - val_top-5-accuracy: 0.4122\n",
            "Epoch 3/10\n",
            "176/176 [==============================] - 72s 407ms/step - loss: 3.6158 - accuracy: 0.1457 - top-5-accuracy: 0.3882 - val_loss: 3.3248 - val_accuracy: 0.1968 - val_top-5-accuracy: 0.4736\n",
            "Epoch 4/10\n",
            "176/176 [==============================] - 69s 391ms/step - loss: 3.4026 - accuracy: 0.1829 - top-5-accuracy: 0.4486 - val_loss: 3.1566 - val_accuracy: 0.2378 - val_top-5-accuracy: 0.5224\n",
            "Epoch 5/10\n",
            "176/176 [==============================] - 69s 395ms/step - loss: 3.2318 - accuracy: 0.2115 - top-5-accuracy: 0.4954 - val_loss: 3.0348 - val_accuracy: 0.2658 - val_top-5-accuracy: 0.5566\n",
            "Epoch 6/10\n",
            "176/176 [==============================] - 72s 407ms/step - loss: 3.0691 - accuracy: 0.2385 - top-5-accuracy: 0.5353 - val_loss: 2.8447 - val_accuracy: 0.2940 - val_top-5-accuracy: 0.6044\n",
            "Epoch 7/10\n",
            "176/176 [==============================] - 69s 391ms/step - loss: 2.9130 - accuracy: 0.2726 - top-5-accuracy: 0.5735 - val_loss: 2.6897 - val_accuracy: 0.3212 - val_top-5-accuracy: 0.6270\n",
            "Epoch 8/10\n",
            "176/176 [==============================] - 70s 395ms/step - loss: 2.7602 - accuracy: 0.3014 - top-5-accuracy: 0.6105 - val_loss: 2.6236 - val_accuracy: 0.3328 - val_top-5-accuracy: 0.6476\n",
            "Epoch 9/10\n",
            "176/176 [==============================] - 72s 407ms/step - loss: 2.6282 - accuracy: 0.3269 - top-5-accuracy: 0.6423 - val_loss: 2.5001 - val_accuracy: 0.3676 - val_top-5-accuracy: 0.6676\n",
            "Epoch 10/10\n",
            "176/176 [==============================] - 67s 379ms/step - loss: 2.4960 - accuracy: 0.3536 - top-5-accuracy: 0.6722 - val_loss: 2.4614 - val_accuracy: 0.3650 - val_top-5-accuracy: 0.6774\n",
            "313/313 [==============================] - 7s 22ms/step - loss: 2.4727 - accuracy: 0.3674 - top-5-accuracy: 0.6716\n",
            "Test accuracy: 36.74%\n",
            "Test top 5 accuracy: 67.16%\n"
          ]
        }
      ]
    },
    {
      "cell_type": "markdown",
      "source": [
        "## Now doing the same with gumbel softmax"
      ],
      "metadata": {
        "id": "tnv95kb5lfTR"
      }
    },
    {
      "cell_type": "code",
      "source": [
        "def gumbel_softmax(logits, temperature=1.0, epsilon=1e-10):\n",
        "    u = tf.random.uniform(tf.shape(logits), minval=0, maxval=1)\n",
        "    gumbel_noise = -tf.math.log(-tf.math.log(u + epsilon) + epsilon)\n",
        "    gumbel_logits = (logits + gumbel_noise) / temperature\n",
        "    softmax_output = tf.nn.softmax(gumbel_logits)\n",
        "    return softmax_output"
      ],
      "metadata": {
        "id": "p8g819ntlSFF"
      },
      "execution_count": null,
      "outputs": []
    },
    {
      "cell_type": "code",
      "source": [
        "def create_gumb_vit_classifier():\n",
        "    inputs = layers.Input(shape=input_shape)\n",
        "    # Augment data.\n",
        "    augmented = data_augmentation(inputs)\n",
        "    # Create patches.\n",
        "    patches = Patches(patch_size)(augmented)\n",
        "    # Encode patches.\n",
        "    encoded_patches = PatchEncoder(num_patches, projection_dim)(patches)\n",
        "\n",
        "    # Create multiple layers of the Transformer block.\n",
        "    for _ in range(transformer_layers):\n",
        "        # Layer normalization 1.\n",
        "        x1 = layers.LayerNormalization(epsilon=1e-6)(encoded_patches)\n",
        "        # Create a multi-head attention layer.\n",
        "        attention_output = layers.MultiHeadAttention(\n",
        "            num_heads=num_heads, key_dim=projection_dim, dropout=0.1\n",
        "        )(x1, x1)\n",
        "        # Skip connection 1.\n",
        "        x2 = layers.Add()([attention_output, encoded_patches])\n",
        "        # Layer normalization 2.\n",
        "        x3 = layers.LayerNormalization(epsilon=1e-6)(x2)\n",
        "        # MLP.\n",
        "        x3 = mlp(x3, hidden_units=transformer_units, dropout_rate=0.1)\n",
        "        # Skip connection 2.\n",
        "        encoded_patches = layers.Add()([x3, x2])\n",
        "\n",
        "    # Create a [batch_size, projection_dim] tensor.\n",
        "    representation = layers.LayerNormalization(epsilon=1e-6)(encoded_patches)\n",
        "    representation = layers.Flatten()(representation)\n",
        "    representation = layers.Dropout(0.5)(representation)\n",
        "    # Add MLP.\n",
        "    features = mlp(representation, hidden_units=mlp_head_units, dropout_rate=0.5)\n",
        "    # Classify outputs with Gumbel Softmax activation.\n",
        "    logits = layers.Dense(num_classes)(features)\n",
        "    probabilities = gumbel_softmax(logits)\n",
        "    # Create the Keras model.\n",
        "    model = keras.Model(inputs=inputs, outputs=probabilities)\n",
        "    return model"
      ],
      "metadata": {
        "id": "uxSkBfc-l-jL"
      },
      "execution_count": null,
      "outputs": []
    },
    {
      "cell_type": "code",
      "source": [
        "def run_experiment(model):\n",
        "    optimizer = tfa.optimizers.AdamW(\n",
        "        learning_rate=learning_rate, weight_decay=weight_decay\n",
        "    )\n",
        "\n",
        "    model.compile(\n",
        "        optimizer=optimizer,\n",
        "        loss=keras.losses.SparseCategoricalCrossentropy(),\n",
        "        metrics=[\n",
        "            keras.metrics.SparseCategoricalAccuracy(name=\"accuracy\"),\n",
        "            keras.metrics.SparseTopKCategoricalAccuracy(5, name=\"top-5-accuracy\"),\n",
        "        ],\n",
        "    )\n",
        "\n",
        "    checkpoint_filepath = \"/tmp/checkpoint\"\n",
        "    checkpoint_callback = keras.callbacks.ModelCheckpoint(\n",
        "        checkpoint_filepath,\n",
        "        monitor=\"val_accuracy\",\n",
        "        save_best_only=True,\n",
        "        save_weights_only=True,\n",
        "    )\n",
        "\n",
        "    history = model.fit(\n",
        "        x=x_train,\n",
        "        y=y_train,\n",
        "        batch_size=batch_size,\n",
        "        epochs=10,\n",
        "        validation_split=0.1,\n",
        "        callbacks=[checkpoint_callback],\n",
        "    )\n",
        "\n",
        "    model.load_weights(checkpoint_filepath)\n",
        "    _, accuracy, top_5_accuracy = model.evaluate(x_test, y_test)\n",
        "    print(f\"Test accuracy: {round(accuracy * 100, 2)}%\")\n",
        "    print(f\"Test top 5 accuracy: {round(top_5_accuracy * 100, 2)}%\")\n",
        "\n",
        "    return history\n",
        "\n",
        "\n",
        "gumb_vit_classifier = create_gumb_vit_classifier()\n",
        "history = run_experiment(gumb_vit_classifier)"
      ],
      "metadata": {
        "colab": {
          "base_uri": "https://localhost:8080/"
        },
        "id": "jUA1jGs_mSkO",
        "outputId": "1271d3d4-3043-4b71-ffc2-f1e06824595e"
      },
      "execution_count": null,
      "outputs": [
        {
          "output_type": "stream",
          "name": "stdout",
          "text": [
            "Epoch 1/10\n",
            "176/176 [==============================] - 85s 424ms/step - loss: 5.7522 - accuracy: 0.0296 - top-5-accuracy: 0.1229 - val_loss: 5.1048 - val_accuracy: 0.0488 - val_top-5-accuracy: 0.1798\n",
            "Epoch 2/10\n",
            "176/176 [==============================] - 69s 390ms/step - loss: 5.1106 - accuracy: 0.0595 - top-5-accuracy: 0.2118 - val_loss: 4.6838 - val_accuracy: 0.0790 - val_top-5-accuracy: 0.2678\n",
            "Epoch 3/10\n",
            "176/176 [==============================] - 73s 414ms/step - loss: 4.7594 - accuracy: 0.0880 - top-5-accuracy: 0.2825 - val_loss: 4.3315 - val_accuracy: 0.1090 - val_top-5-accuracy: 0.3298\n",
            "Epoch 4/10\n",
            "176/176 [==============================] - 70s 400ms/step - loss: 4.5057 - accuracy: 0.1138 - top-5-accuracy: 0.3377 - val_loss: 4.1523 - val_accuracy: 0.1316 - val_top-5-accuracy: 0.3682\n",
            "Epoch 5/10\n",
            "176/176 [==============================] - 72s 407ms/step - loss: 4.3078 - accuracy: 0.1386 - top-5-accuracy: 0.3780 - val_loss: 3.9722 - val_accuracy: 0.1608 - val_top-5-accuracy: 0.4192\n",
            "Epoch 6/10\n",
            "176/176 [==============================] - 69s 391ms/step - loss: 4.1248 - accuracy: 0.1614 - top-5-accuracy: 0.4154 - val_loss: 3.8400 - val_accuracy: 0.1674 - val_top-5-accuracy: 0.4518\n",
            "Epoch 7/10\n",
            "176/176 [==============================] - 70s 395ms/step - loss: 3.9851 - accuracy: 0.1754 - top-5-accuracy: 0.4463 - val_loss: 3.7038 - val_accuracy: 0.1936 - val_top-5-accuracy: 0.4642\n",
            "Epoch 8/10\n",
            "176/176 [==============================] - 72s 407ms/step - loss: 3.8202 - accuracy: 0.2013 - top-5-accuracy: 0.4782 - val_loss: 3.5678 - val_accuracy: 0.2190 - val_top-5-accuracy: 0.5154\n",
            "Epoch 9/10\n",
            "176/176 [==============================] - 69s 393ms/step - loss: 3.6832 - accuracy: 0.2197 - top-5-accuracy: 0.5086 - val_loss: 3.4729 - val_accuracy: 0.2224 - val_top-5-accuracy: 0.5290\n",
            "Epoch 10/10\n",
            "176/176 [==============================] - 69s 390ms/step - loss: 3.5698 - accuracy: 0.2345 - top-5-accuracy: 0.5323 - val_loss: 3.3908 - val_accuracy: 0.2530 - val_top-5-accuracy: 0.5476\n",
            "313/313 [==============================] - 7s 23ms/step - loss: 3.3426 - accuracy: 0.2548 - top-5-accuracy: 0.5503\n",
            "Test accuracy: 25.48%\n",
            "Test top 5 accuracy: 55.03%\n"
          ]
        }
      ]
    }
  ],
  "metadata": {
    "colab": {
      "provenance": [],
      "gpuType": "T4"
    },
    "kernelspec": {
      "display_name": "Python 3",
      "name": "python3"
    },
    "language_info": {
      "name": "python"
    },
    "accelerator": "GPU"
  },
  "nbformat": 4,
  "nbformat_minor": 0
}