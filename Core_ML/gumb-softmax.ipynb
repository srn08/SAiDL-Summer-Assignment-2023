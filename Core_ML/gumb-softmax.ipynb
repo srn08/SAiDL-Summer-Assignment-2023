{
  "nbformat": 4,
  "nbformat_minor": 0,
  "metadata": {
    "colab": {
      "provenance": [],
      "gpuType": "T4"
    },
    "kernelspec": {
      "name": "python3",
      "display_name": "Python 3"
    },
    "language_info": {
      "name": "python"
    },
    "accelerator": "GPU"
  },
  "cells": [
    {
      "cell_type": "code",
      "execution_count": 14,
      "metadata": {
        "colab": {
          "base_uri": "https://localhost:8080/"
        },
        "id": "8RS1f5rXa9L9",
        "outputId": "f1778ae8-34a6-4082-b720-2cdf02e8b330"
      },
      "outputs": [
        {
          "output_type": "stream",
          "name": "stdout",
          "text": [
            "Epoch 1/30\n",
            "1563/1563 [==============================] - 11s 6ms/step - loss: nan - accuracy: 0.0353 - val_loss: 4.7312 - val_accuracy: 0.0760\n",
            "Epoch 2/30\n",
            "1563/1563 [==============================] - 9s 6ms/step - loss: 4.4757 - accuracy: 0.1030 - val_loss: 4.2600 - val_accuracy: 0.1313\n",
            "Epoch 3/30\n",
            "1563/1563 [==============================] - 8s 5ms/step - loss: nan - accuracy: 0.1539 - val_loss: 3.9296 - val_accuracy: 0.1784\n",
            "Epoch 4/30\n",
            "1563/1563 [==============================] - 8s 5ms/step - loss: nan - accuracy: 0.1957 - val_loss: nan - val_accuracy: 0.1839\n",
            "Epoch 5/30\n",
            "1563/1563 [==============================] - 8s 5ms/step - loss: nan - accuracy: 0.2254 - val_loss: 3.6666 - val_accuracy: 0.2230\n",
            "Epoch 6/30\n",
            "1563/1563 [==============================] - 8s 5ms/step - loss: nan - accuracy: 0.2469 - val_loss: 3.5773 - val_accuracy: 0.2374\n",
            "Epoch 7/30\n",
            "1563/1563 [==============================] - 8s 5ms/step - loss: nan - accuracy: 0.2719 - val_loss: 3.5018 - val_accuracy: 0.2516\n",
            "Epoch 8/30\n",
            "1563/1563 [==============================] - 8s 5ms/step - loss: 3.1552 - accuracy: 0.2892 - val_loss: 3.4858 - val_accuracy: 0.2653\n",
            "Epoch 9/30\n",
            "1563/1563 [==============================] - 9s 6ms/step - loss: 3.0566 - accuracy: 0.3071 - val_loss: 3.5531 - val_accuracy: 0.2646\n",
            "Epoch 10/30\n",
            "1563/1563 [==============================] - 8s 5ms/step - loss: 2.9444 - accuracy: 0.3244 - val_loss: 3.4622 - val_accuracy: 0.2802\n",
            "Epoch 11/30\n",
            "1563/1563 [==============================] - 8s 5ms/step - loss: 2.8706 - accuracy: 0.3358 - val_loss: nan - val_accuracy: 0.2725\n",
            "Epoch 12/30\n",
            "1563/1563 [==============================] - 8s 5ms/step - loss: nan - accuracy: 0.3553 - val_loss: 3.6759 - val_accuracy: 0.2722\n",
            "Epoch 13/30\n",
            "1563/1563 [==============================] - 8s 5ms/step - loss: 2.6915 - accuracy: 0.3659 - val_loss: 3.4581 - val_accuracy: 0.2920\n",
            "Epoch 14/30\n",
            "1563/1563 [==============================] - 8s 5ms/step - loss: nan - accuracy: 0.3789 - val_loss: 3.5479 - val_accuracy: 0.2857\n",
            "Epoch 15/30\n",
            "1563/1563 [==============================] - 9s 6ms/step - loss: 2.5656 - accuracy: 0.3895 - val_loss: 3.6111 - val_accuracy: 0.2912\n",
            "Epoch 16/30\n",
            "1563/1563 [==============================] - 8s 5ms/step - loss: nan - accuracy: 0.4022 - val_loss: nan - val_accuracy: 0.2999\n",
            "Epoch 17/30\n",
            "1563/1563 [==============================] - 8s 5ms/step - loss: 2.4352 - accuracy: 0.4166 - val_loss: 3.6353 - val_accuracy: 0.2963\n",
            "Epoch 18/30\n",
            "1563/1563 [==============================] - 9s 6ms/step - loss: nan - accuracy: 0.4250 - val_loss: 3.6537 - val_accuracy: 0.2996\n",
            "Epoch 19/30\n",
            "1563/1563 [==============================] - 8s 5ms/step - loss: 2.3127 - accuracy: 0.4381 - val_loss: 3.7257 - val_accuracy: 0.2947\n",
            "Epoch 20/30\n",
            "1563/1563 [==============================] - 8s 5ms/step - loss: nan - accuracy: 0.4466 - val_loss: 3.7782 - val_accuracy: 0.3031\n",
            "Epoch 21/30\n",
            "1563/1563 [==============================] - 8s 5ms/step - loss: 2.2017 - accuracy: 0.4598 - val_loss: 3.8224 - val_accuracy: 0.2992\n",
            "Epoch 22/30\n",
            "1563/1563 [==============================] - 9s 6ms/step - loss: 2.1664 - accuracy: 0.4689 - val_loss: 3.8476 - val_accuracy: 0.3088\n",
            "Epoch 23/30\n",
            "1563/1563 [==============================] - 8s 5ms/step - loss: 2.1183 - accuracy: 0.4738 - val_loss: 4.0555 - val_accuracy: 0.2986\n",
            "Epoch 24/30\n",
            "1563/1563 [==============================] - 8s 5ms/step - loss: 2.0564 - accuracy: 0.4892 - val_loss: 4.0123 - val_accuracy: 0.3086\n",
            "Epoch 25/30\n",
            "1563/1563 [==============================] - 9s 6ms/step - loss: 2.0151 - accuracy: 0.4992 - val_loss: 4.1067 - val_accuracy: 0.3083\n",
            "Epoch 26/30\n",
            "1563/1563 [==============================] - 8s 5ms/step - loss: nan - accuracy: 0.5057 - val_loss: 4.2307 - val_accuracy: 0.2952\n",
            "Epoch 27/30\n",
            "1563/1563 [==============================] - 9s 6ms/step - loss: 1.9253 - accuracy: 0.5169 - val_loss: 4.3594 - val_accuracy: 0.3013\n",
            "Epoch 28/30\n",
            "1563/1563 [==============================] - 9s 5ms/step - loss: 1.8774 - accuracy: 0.5243 - val_loss: 4.3232 - val_accuracy: 0.3020\n",
            "Epoch 29/30\n",
            "1563/1563 [==============================] - 8s 5ms/step - loss: 1.8327 - accuracy: 0.5326 - val_loss: 4.4539 - val_accuracy: 0.3071\n",
            "Epoch 30/30\n",
            "1563/1563 [==============================] - 9s 6ms/step - loss: 1.7892 - accuracy: 0.5427 - val_loss: nan - val_accuracy: 0.3024\n"
          ]
        },
        {
          "output_type": "execute_result",
          "data": {
            "text/plain": [
              "<keras.callbacks.History at 0x7fcc45c50b80>"
            ]
          },
          "metadata": {},
          "execution_count": 14
        }
      ],
      "source": [
        "import tensorflow as tf\n",
        "from tensorflow.keras.datasets import cifar100\n",
        "from tensorflow.keras.models import Sequential\n",
        "from tensorflow.keras.layers import Conv2D, MaxPooling2D, Flatten, Dense\n",
        "from sklearn.metrics import precision_score, recall_score, f1_score\n",
        "from tensorflow.keras import layers, models\n",
        "\n",
        "# Load the CIFAR-100 dataset\n",
        "(x_train, y_train), (x_test, y_test) = cifar100.load_data()\n",
        "\n",
        "# Normalize the input data\n",
        "x_train = x_train / 255.0\n",
        "x_test = x_test / 255.0\n",
        "\n",
        "# Convert labels to one-hot vectors\n",
        "y_train = tf.keras.utils.to_categorical(y_train, num_classes=100)\n",
        "y_test = tf.keras.utils.to_categorical(y_test, num_classes=100)\n",
        "\n",
        "# Create the CNN model\n",
        "model = Sequential()\n",
        "model.add(Conv2D(30, (3, 3), activation='relu', input_shape=(32, 32, 3)))\n",
        "model.add(MaxPooling2D((2, 2)))\n",
        "model.add(Conv2D(70, (3, 3), activation='relu'))\n",
        "model.add(MaxPooling2D((2, 2)))\n",
        "model.add(Conv2D(160, (3, 3), activation='relu'))\n",
        "model.add(Flatten())\n",
        "model.add(Dense(64, activation='relu'))\n",
        "model.add(Dense(100, activation=None))  # Softmax activation for 100 classes\n",
        "\n",
        "# Define Gumbel-Softmax activation function\n",
        "def gumbel_softmax(x):\n",
        "    gumbel_noise = -tf.math.log(-tf.math.log(tf.random.uniform(tf.shape(x), dtype=x.dtype)))\n",
        "    logits = x + gumbel_noise\n",
        "    return tf.nn.softmax(logits)\n",
        "\n",
        "# Apply Gumbel-Softmax activation function to the last fully connected layer\n",
        "model.add(layers.Lambda(gumbel_softmax))\n",
        "\n",
        "# Compile the model\n",
        "model.compile(optimizer='adam',\n",
        "              loss='categorical_crossentropy',\n",
        "              metrics=['accuracy'])\n",
        "\n",
        "# Train the model\n",
        "model.fit(x_train, y_train, epochs=30, validation_data=(x_test, y_test))\n"
      ]
    },
    {
      "cell_type": "code",
      "source": [
        "\n",
        "# Evaluate the model\n",
        "y_pred = model.predict(x_test)\n",
        "y_pred = tf.argmax(y_pred, axis=1).numpy()\n",
        "# y_test = tf.argmax(y_test, axis=1).numpy()\n",
        "\n",
        "# accuracy = model.evaluate(x_test, y_test)[1]\n",
        "precision = precision_score(y_test, y_pred, average='macro')\n",
        "recall = recall_score(y_test, y_pred, average='macro')\n",
        "f1 = f1_score(y_test, y_pred, average='macro')\n",
        "\n",
        "# print(\"Accuracy: {:.4f}\".format(accuracy))\n",
        "print(\"Precision: {:.4f}\".format(precision))\n",
        "print(\"Recall: {:.4f}\".format(recall))\n",
        "print(\"F1 Score: {:.4f}\".format(f1))"
      ],
      "metadata": {
        "colab": {
          "base_uri": "https://localhost:8080/"
        },
        "id": "oq6BDztTs_U6",
        "outputId": "ae2bafff-6238-4a1a-dc47-fcbb0c6f4bc0"
      },
      "execution_count": 23,
      "outputs": [
        {
          "output_type": "stream",
          "name": "stdout",
          "text": [
            "313/313 [==============================] - 1s 3ms/step\n",
            "Precision: 0.3044\n",
            "Recall: 0.3023\n",
            "F1 Score: 0.2981\n"
          ]
        }
      ]
    }
  ]
}